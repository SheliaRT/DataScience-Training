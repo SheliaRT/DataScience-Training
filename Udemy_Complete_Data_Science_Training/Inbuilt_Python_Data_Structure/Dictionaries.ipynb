{
 "cells": [
  {
   "cell_type": "markdown",
   "id": "1c3529e4",
   "metadata": {},
   "source": [
    "### Dictionaries\n",
    "Dictionaries are unordered collections of items that store data in key-value pairs. All data is stored in key-value pairs. Keys must be unique and immutable. Once you define a key, it cannot be changed. Values can be changed, but keys must always be unique. Keys can include strings, numbers, or tuples, while values can be of any type."
   ]
  },
  {
   "cell_type": "code",
   "execution_count": null,
   "id": "d387a19b",
   "metadata": {},
   "outputs": [],
   "source": []
  },
  {
   "cell_type": "code",
   "execution_count": 2,
   "id": "5a86604f",
   "metadata": {},
   "outputs": [
    {
     "name": "stdout",
     "output_type": "stream",
     "text": [
      "<class 'dict'>\n",
      "<class 'dict'>\n"
     ]
    }
   ],
   "source": [
    "#create an empty dictionary\n",
    "empty_dict = {}\n",
    "print(type(empty_dict))\n",
    "\n",
    "empty_dict2 = dict()\n",
    "print(type(empty_dict2))"
   ]
  },
  {
   "cell_type": "code",
   "execution_count": 3,
   "id": "67326fe0",
   "metadata": {},
   "outputs": [
    {
     "name": "stdout",
     "output_type": "stream",
     "text": [
      "{'name': 'John', 'age': 30, 'city': 'New York'}\n"
     ]
    }
   ],
   "source": [
    "#create a dictionary with some values\n",
    "my_dict = {'name': 'John', 'age': 30, 'city': 'New York'}\n",
    "print(my_dict)"
   ]
  },
  {
   "cell_type": "code",
   "execution_count": 4,
   "id": "b404fbbf",
   "metadata": {},
   "outputs": [
    {
     "name": "stdout",
     "output_type": "stream",
     "text": [
      "John\n",
      "30\n"
     ]
    }
   ],
   "source": [
    "print(my_dict['name'])\n",
    "print(my_dict['age'])"
   ]
  },
  {
   "cell_type": "code",
   "execution_count": 6,
   "id": "8dd9e292",
   "metadata": {},
   "outputs": [
    {
     "name": "stdout",
     "output_type": "stream",
     "text": [
      "New York\n",
      "30\n",
      "USA\n",
      "None\n"
     ]
    }
   ],
   "source": [
    "#accessing values in a dictionary\n",
    "print(my_dict['city']) \n",
    "print(my_dict.get('age'))\n",
    "print(my_dict.get('country', 'USA'))  # Default value if key not found\n",
    "print(my_dict.get('state'))  # None if key not found\n"
   ]
  },
  {
   "cell_type": "code",
   "execution_count": 8,
   "id": "564e82b7",
   "metadata": {},
   "outputs": [
    {
     "name": "stdout",
     "output_type": "stream",
     "text": [
      "{'name': 'John', 'age': 31, 'city': 'New York', 'country': 'USA'}\n",
      "{'name': 'John', 'age': 31, 'country': 'USA'}\n",
      "{'name': 'John', 'country': 'USA'}\n"
     ]
    }
   ],
   "source": [
    "#add update and delete elements in a dictionary\n",
    "my_dict['age'] = 31  # Update existing key\n",
    "my_dict['country'] = 'USA'  # Add new key-value pair\n",
    "print(my_dict)\n",
    "\n",
    "del my_dict['city']  # Remove key-value pair\n",
    "print(my_dict)\n",
    "my_dict.pop('age')  # Remove key-value pair and return value\n",
    "print(my_dict)\n"
   ]
  },
  {
   "cell_type": "code",
   "execution_count": 9,
   "id": "e7368a08",
   "metadata": {},
   "outputs": [
    {
     "name": "stdout",
     "output_type": "stream",
     "text": [
      "dict_keys(['name', 'country'])\n",
      "dict_values(['John', 'USA'])\n",
      "dict_items([('name', 'John'), ('country', 'USA')])\n"
     ]
    }
   ],
   "source": [
    "#common dictionary methods\n",
    "print(my_dict.keys())  # Get all keys\n",
    "print(my_dict.values())  # Get all values\n",
    "print(my_dict.items())  # Get all key-value pairs\n"
   ]
  },
  {
   "cell_type": "code",
   "execution_count": 10,
   "id": "4edc0e53",
   "metadata": {},
   "outputs": [
    {
     "name": "stdout",
     "output_type": "stream",
     "text": [
      "Original dict_a: {'a': 1, 'b': 2, 'c': 3}\n",
      "Assigned dict_b: {'a': 1, 'b': 2, 'c': 3}\n",
      "Shallow copied dict_c: {'a': 1, 'b': 2, 'c': 3}\n",
      "Shallow copied dict_d: {'a': 1, 'b': 2, 'c': 3}\n",
      "After modifying dict_a:\n",
      "dict_a: {'a': 10, 'b': 2, 'c': 3}\n",
      "dict_b: {'a': 10, 'b': 2, 'c': 3}\n",
      "dict_c: {'a': 1, 'b': 2, 'c': 3}\n",
      "dict_d: {'a': 1, 'b': 2, 'c': 3}\n"
     ]
    }
   ],
   "source": [
    "### assigning dictionary vs shallow copy\n",
    "dict_a = {'a': 1, 'b': 2, 'c': 3}\n",
    "dict_b = dict_a  # Both variables point to the same dictionary\n",
    "dict_c = dict_a.copy()  # Creates a shallow copy of the dictionary\n",
    "dict_d = dict(dict_a)  # Another way to create a shallow copy\n",
    "print(\"Original dict_a:\", dict_a)\n",
    "print(\"Assigned dict_b:\", dict_b)\n",
    "print(\"Shallow copied dict_c:\", dict_c)\n",
    "print(\"Shallow copied dict_d:\", dict_d)\n",
    "\n",
    "dict_a['a'] = 10\n",
    "print(\"After modifying dict_a:\")\n",
    "print(\"dict_a:\", dict_a)  # Modified\n",
    "print(\"dict_b:\", dict_b)  # Affected\n",
    "print(\"dict_c:\", dict_c)  # Unaffected\n",
    "print(\"dict_d:\", dict_d)  # Unaffected"
   ]
  },
  {
   "cell_type": "code",
   "execution_count": 11,
   "id": "7923f253",
   "metadata": {},
   "outputs": [
    {
     "name": "stdout",
     "output_type": "stream",
     "text": [
      "Key: name, Value: John\n",
      "Key: country, Value: USA\n",
      "Value: John\n",
      "Value: USA\n",
      "Key: name, Value: John\n",
      "Key: country, Value: USA\n"
     ]
    }
   ],
   "source": [
    "###iterating through a dictionary\n",
    "for key in my_dict:\n",
    "    print(f\"Key: {key}, Value: {my_dict[key]}\")\n",
    "for values in my_dict.values():\n",
    "    print(f\"Value: {values}\")\n",
    "for key, value in my_dict.items():\n",
    "    print(f\"Key: {key}, Value: {value}\")\n"
   ]
  },
  {
   "cell_type": "code",
   "execution_count": 14,
   "id": "4eb6d6de",
   "metadata": {},
   "outputs": [
    {
     "name": "stdout",
     "output_type": "stream",
     "text": [
      "{'name': 'John Doe', 'age': 21, 'courses': {'course_1': {'title': 'Data Science', 'duration': '3 months'}, 'course_2': {'title': 'Machine Learning', 'duration': '4 months'}}}\n",
      "Data Science\n",
      "4 months\n"
     ]
    }
   ],
   "source": [
    "#nested dictionaries\n",
    "student = {\n",
    "    'name': 'John Doe',\n",
    "    'age': 21,\n",
    "    'courses': {\n",
    "        'course_1': {\n",
    "            'title': 'Data Science',\n",
    "            'duration': '3 months'\n",
    "        },\n",
    "        'course_2': {\n",
    "            'title': 'Machine Learning',\n",
    "            'duration': '4 months'\n",
    "        }\n",
    "    }\n",
    "}\n",
    "print(student)\n",
    "##accessing nested dictionary values\n",
    "print(student['courses']['course_1']['title'])  # Output: Data Science\n",
    "print(student['courses']['course_2']['duration'])  # Output: 4 months\n"
   ]
  },
  {
   "cell_type": "code",
   "execution_count": 15,
   "id": "9fc88770",
   "metadata": {},
   "outputs": [
    {
     "name": "stdout",
     "output_type": "stream",
     "text": [
      "course_1:\n",
      "  title: Data Science\n",
      "  duration: 3 months\n",
      "course_2:\n",
      "  title: Machine Learning\n",
      "  duration: 4 months\n"
     ]
    }
   ],
   "source": [
    "#iterating through a nested dictionary\n",
    "for course_key, course_info in student['courses'].items():\n",
    "    print(f\"{course_key}:\")\n",
    "    for info_key, info_value in course_info.items():\n",
    "        print(f\"  {info_key}: {info_value}\")    "
   ]
  },
  {
   "cell_type": "markdown",
   "id": "77e9660f",
   "metadata": {},
   "source": [
    "### Practical Example: Counting Frequency of Elements in a List"
   ]
  },
  {
   "cell_type": "code",
   "execution_count": 16,
   "id": "d556d580",
   "metadata": {},
   "outputs": [
    {
     "name": "stdout",
     "output_type": "stream",
     "text": [
      "{1: 1, 2: 2, 3: 3, 4: 4}\n"
     ]
    }
   ],
   "source": [
    "numbers = [1, 2, 2, 3, 3, 3, 4, 4, 4, 4]\n",
    "frequency = {}\n",
    "for number in numbers:\n",
    "    if number in frequency:\n",
    "        frequency[number] += 1\n",
    "    else:\n",
    "        frequency[number] = 1\n",
    "print(frequency)"
   ]
  },
  {
   "cell_type": "markdown",
   "id": "e6e3e2c5",
   "metadata": {},
   "source": [
    "### Merging two dictionaries"
   ]
  },
  {
   "cell_type": "code",
   "execution_count": 17,
   "id": "f32d3747",
   "metadata": {},
   "outputs": [
    {
     "name": "stdout",
     "output_type": "stream",
     "text": [
      "{'a': 1, 'b': 3, 'c': 4}\n"
     ]
    }
   ],
   "source": [
    "dict1 = {'a': 1, 'b': 2}\n",
    "dict2 = {'b': 3, 'c': 4}\n",
    "merged_dict = {**dict1, **dict2}\n",
    "print(merged_dict)"
   ]
  },
  {
   "cell_type": "code",
   "execution_count": 1,
   "id": "9458c56c",
   "metadata": {},
   "outputs": [
    {
     "name": "stdout",
     "output_type": "stream",
     "text": [
      "{'a': 1, 'b': 5, 'c': 4}\n"
     ]
    }
   ],
   "source": [
    "###Merge Dictionaries with Common Keys\n",
    "def merge_dicts_sum_values(dict1, dict2):\n",
    "    merged = dict1.copy()\n",
    "    for key, value in dict2.items():\n",
    "        if key in merged:\n",
    "            merged[key] += value\n",
    "        else:\n",
    "            merged[key] = value\n",
    "    return merged\n",
    "print(merge_dicts_sum_values({'a': 1, 'b': 2}, {'b': 3, 'c': 4}))  # {'a': 1, 'b': 5, 'c': 4}"
   ]
  }
 ],
 "metadata": {
  "kernelspec": {
   "display_name": "SheliaWorkspace",
   "language": "python",
   "name": "python3"
  },
  "language_info": {
   "codemirror_mode": {
    "name": "ipython",
    "version": 3
   },
   "file_extension": ".py",
   "mimetype": "text/x-python",
   "name": "python",
   "nbconvert_exporter": "python",
   "pygments_lexer": "ipython3",
   "version": "3.10.16"
  }
 },
 "nbformat": 4,
 "nbformat_minor": 5
}
