{
 "cells": [
  {
   "cell_type": "markdown",
   "id": "a8c6e0aa",
   "metadata": {},
   "source": [
    "### Sets\n",
    "\n",
    "Sets are used to store collections of unique items. They are unordered, meaning the elements do not follow a specific order, and they do not allow duplicate elements. Sets are useful for membership tests, eliminating duplicate entries, and performing mathematical set operations like union, intersection, difference, and symmetric difference."
   ]
  },
  {
   "cell_type": "code",
   "execution_count": 2,
   "id": "264d030b",
   "metadata": {},
   "outputs": [
    {
     "name": "stdout",
     "output_type": "stream",
     "text": [
      "{1, 2, 3, 4, 5}\n",
      "<class 'set'>\n"
     ]
    }
   ],
   "source": [
    "###create a set\n",
    "my_set={1,2,3,4,5}\n",
    "print(my_set)\n",
    "print(type(my_set))"
   ]
  },
  {
   "cell_type": "code",
   "execution_count": 4,
   "id": "d1da8361",
   "metadata": {},
   "outputs": [
    {
     "name": "stdout",
     "output_type": "stream",
     "text": [
      "<class 'set'>\n"
     ]
    }
   ],
   "source": [
    "my_empty_set=set()\n",
    "print(type(my_empty_set))"
   ]
  },
  {
   "cell_type": "code",
   "execution_count": 5,
   "id": "170301bd",
   "metadata": {},
   "outputs": [
    {
     "name": "stdout",
     "output_type": "stream",
     "text": [
      "{1, 2, 3, 4, 5, 6}\n",
      "{1, 2, 4, 5, 6}\n"
     ]
    }
   ],
   "source": [
    "###set operations\n",
    "###adding and removing elements\n",
    "my_set.add(6)\n",
    "print(my_set)\n",
    "my_set.remove(3)\n",
    "print(my_set)"
   ]
  },
  {
   "cell_type": "code",
   "execution_count": 6,
   "id": "d9afd1b2",
   "metadata": {},
   "outputs": [
    {
     "name": "stdout",
     "output_type": "stream",
     "text": [
      "{1, 2, 4, 5, 6}\n"
     ]
    }
   ],
   "source": [
    "my_set.discard(10)  #does not throw error if element not found\n",
    "print(my_set)"
   ]
  },
  {
   "cell_type": "code",
   "execution_count": 7,
   "id": "259388bc",
   "metadata": {},
   "outputs": [
    {
     "name": "stdout",
     "output_type": "stream",
     "text": [
      "1\n"
     ]
    }
   ],
   "source": [
    "##pop method removes and returns a random element\n",
    "print(my_set.pop())"
   ]
  },
  {
   "cell_type": "code",
   "execution_count": 10,
   "id": "d9a20c3b",
   "metadata": {},
   "outputs": [
    {
     "name": "stdout",
     "output_type": "stream",
     "text": [
      "set()\n"
     ]
    }
   ],
   "source": [
    "###clear method removes all elements\n",
    "my_set.clear()\n",
    "print(my_set)"
   ]
  },
  {
   "cell_type": "code",
   "execution_count": 11,
   "id": "f7a53233",
   "metadata": {},
   "outputs": [
    {
     "name": "stdout",
     "output_type": "stream",
     "text": [
      "True\n"
     ]
    }
   ],
   "source": [
    "setA={1,2,3,4,5}\n",
    "setB={4,5,6,7,8}\n",
    "print(3 in setA) #union of two sets\n"
   ]
  },
  {
   "cell_type": "code",
   "execution_count": 13,
   "id": "d3bb6459",
   "metadata": {},
   "outputs": [
    {
     "name": "stdout",
     "output_type": "stream",
     "text": [
      "{1, 2, 3, 4, 5, 6, 7, 8}\n",
      "{4, 5}\n"
     ]
    }
   ],
   "source": [
    "union_set=setA.union(setB)\n",
    "print(union_set)\n",
    "intersection_set=setA.intersection(setB)\n",
    "print(intersection_set)\n",
    "\n"
   ]
  },
  {
   "cell_type": "code",
   "execution_count": 14,
   "id": "831b2e6d",
   "metadata": {},
   "outputs": [
    {
     "name": "stdout",
     "output_type": "stream",
     "text": [
      "{1, 2, 3}\n",
      "{1, 2, 3}\n"
     ]
    }
   ],
   "source": [
    "## Difference of two sets\n",
    "difference_set=setA.difference(setB)\n",
    "print(difference_set)\n",
    "##difference_update method removes the elements found in only other set. \n",
    "# e.g setB's elementfrom the setA\n",
    "setA.difference_update(setB)\n",
    "print(setA)"
   ]
  },
  {
   "cell_type": "code",
   "execution_count": 17,
   "id": "8eaa7452",
   "metadata": {},
   "outputs": [
    {
     "name": "stdout",
     "output_type": "stream",
     "text": [
      "{1, 2, 3, 6, 7, 8}\n",
      "{1, 2, 3, 6, 7, 8}\n"
     ]
    }
   ],
   "source": [
    "###symmetric difference returns elements that are unique to each set, excluding common elements.\n",
    "setA={1,2,3,4,5}\n",
    "setB={4,5,6,7,8}\n",
    "symmetric_difference_set=setA.symmetric_difference(setB)\n",
    "print(symmetric_difference_set)\n",
    "\n",
    "setA.symmetric_difference_update(setB)\n",
    "print(setA)"
   ]
  },
  {
   "cell_type": "code",
   "execution_count": 20,
   "id": "084eb799",
   "metadata": {},
   "outputs": [
    {
     "name": "stdout",
     "output_type": "stream",
     "text": [
      "False\n",
      "False\n",
      "True\n",
      "True\n"
     ]
    }
   ],
   "source": [
    "set1={1,2,3}\n",
    "set2={4,5,6}\n",
    "print(set1.issubset(set2))\n",
    "print(set1.issuperset(set2))\n",
    "\n",
    "set3={4,5,6,7,8,9}\n",
    "set4={4,5,6}\n",
    "print(set4.issubset(set3))\n",
    "print(set3.issuperset(set4))\n"
   ]
  },
  {
   "cell_type": "code",
   "execution_count": 21,
   "id": "2db31c7e",
   "metadata": {},
   "outputs": [
    {
     "name": "stdout",
     "output_type": "stream",
     "text": [
      "{1, 2, 3, 4, 5, 6, 7, 8}\n"
     ]
    }
   ],
   "source": [
    "my_list=[1,2,3,4,5,5,6,7,8,8]\n",
    "print(set(my_list))  #removes duplicates"
   ]
  },
  {
   "cell_type": "code",
   "execution_count": 22,
   "id": "18f2cf0f",
   "metadata": {},
   "outputs": [
    {
     "name": "stdout",
     "output_type": "stream",
     "text": [
      "Unique words: {'This', 'sentence', 'a', 'words', 'with', 'several', 'sample', 'is'}\n",
      "Number of unique words: 8\n"
     ]
    }
   ],
   "source": [
    "###counting words in a sentence\n",
    "sentence=\"This is a sample sentence with several words\"\n",
    "words=sentence.split()\n",
    "unique_words=set(words)\n",
    "print(\"Unique words:\", unique_words)\n",
    "print(\"Number of unique words:\", len(unique_words))"
   ]
  },
  {
   "cell_type": "code",
   "execution_count": null,
   "id": "fe4fd0a0",
   "metadata": {},
   "outputs": [
    {
     "name": "stdout",
     "output_type": "stream",
     "text": [
      "Unique letters: {'i', 'r', 't', 'T', 'a', ' ', 'c', 'l', 'n', 'w', 'm', 'e', 'h', 'p', 'o', 'v', 'd', 's'}\n",
      "Number of unique letters: 18\n"
     ]
    }
   ],
   "source": [
    "#counting the letters in a sentence\n",
    "letters=set(sentence)\n",
    "print(\"Unique letters:\", letters)\n",
    "print(\"Number of unique letters:\", len(letters))"
   ]
  },
  {
   "cell_type": "code",
   "execution_count": 25,
   "id": "1e5256e8",
   "metadata": {},
   "outputs": [
    {
     "name": "stdout",
     "output_type": "stream",
     "text": [
      "{1, 2, 3, 4, 5}\n",
      "{3, 4, 5}\n",
      "set()\n",
      "{3, 4, 5}\n",
      "False\n"
     ]
    }
   ],
   "source": [
    "set_a = {1, 2, 3}\n",
    "set_b = {3, 4, 5}\n",
    "\n",
    "# Union (same as set_a.union(set_b))\n",
    "print(set_a | set_b )       # {1, 2, 3, 4, 5}\n",
    "set_a |= set_b       # set_a becomes {1, 2, 3, 4, 5}\n",
    "\n",
    "# Intersection (same as set_a.intersection(set_b))\n",
    "print(set_a & set_b)        # {3}\n",
    "set_a &= set_b       # set_a becomes {3}\n",
    "\n",
    "# Difference (same as set_a.difference(set_b))\n",
    "print(set_a - set_b)        # elements in set_a but not set_b\n",
    "set_a -= set_b       # set_a keeps only elements not in set_b\n",
    "\n",
    "# Symmetric difference (same as set_a.symmetric_difference(set_b))\n",
    "print(set_a ^ set_b)        # elements in exactly one of the sets\n",
    "set_a ^= set_b       # set_a becomes the symmetric difference\n",
    "\n",
    "# Disjointness test\n",
    "print(set_a.isdisjoint(set_b))  # True if the sets share no elements"
   ]
  }
 ],
 "metadata": {
  "kernelspec": {
   "display_name": "SheliaWorkspace",
   "language": "python",
   "name": "python3"
  },
  "language_info": {
   "codemirror_mode": {
    "name": "ipython",
    "version": 3
   },
   "file_extension": ".py",
   "mimetype": "text/x-python",
   "name": "python",
   "nbconvert_exporter": "python",
   "pygments_lexer": "ipython3",
   "version": "3.10.16"
  }
 },
 "nbformat": 4,
 "nbformat_minor": 5
}
