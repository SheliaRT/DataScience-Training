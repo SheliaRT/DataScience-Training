{
 "cells": [
  {
   "cell_type": "markdown",
   "id": "23788704",
   "metadata": {},
   "source": [
    "### Inbuilt Python Data Structure"
   ]
  },
  {
   "cell_type": "code",
   "execution_count": 1,
   "id": "40bf7817",
   "metadata": {},
   "outputs": [
    {
     "name": "stdout",
     "output_type": "stream",
     "text": [
      "<class 'list'>\n"
     ]
    }
   ],
   "source": [
    "lst=[]\n",
    "print(type(lst))"
   ]
  },
  {
   "cell_type": "code",
   "execution_count": 7,
   "id": "d6446f1d",
   "metadata": {},
   "outputs": [
    {
     "name": "stdout",
     "output_type": "stream",
     "text": [
      "['rose', 'lily', 'tulip']\n",
      "rose\n",
      "tulip\n",
      "['lily', 'tulip']\n",
      "['lily', 'tulip']\n",
      "['rose', 'lily', 'tulip']\n",
      "['rose', 'tulip']\n",
      "['tulip', 'lily', 'rose']\n"
     ]
    }
   ],
   "source": [
    "#a list with mixed data types\n",
    "flowers = [ \"rose\",\"lily\", \"tulip\"]\n",
    "\n",
    "#print the entire list\n",
    "print(flowers)\n",
    "\n",
    "#print the first element\n",
    "print(flowers[0])\n",
    "\n",
    "#print the last element\n",
    "print(flowers[-1])\n",
    "\n",
    "#print elements from index 1 to 3 (excluding 3)\n",
    "print(flowers[1:3])\n",
    "\n",
    "#print elements from index 1 to the end\n",
    "print(flowers[1:])\n",
    "\n",
    "#print elements from the start to index 3 (excluding 3)\n",
    "print(flowers[:3])\n",
    "\n",
    "#print elements from the start to the end with a step of 2\n",
    "print(flowers[::2])\n",
    "\n",
    "#print elements from the end to the start with a step of -1\n",
    "print(flowers[::-1])\n",
    "\n"
   ]
  },
  {
   "cell_type": "code",
   "execution_count": null,
   "id": "ab0099a1",
   "metadata": {},
   "outputs": [
    {
     "name": "stdout",
     "output_type": "stream",
     "text": [
      "['rose', 'lily', 'tulip', 'daisy']\n",
      "['rose', 'orchid', 'lily', 'tulip', 'daisy']\n",
      "['orchid', 'lily', 'tulip', 'daisy']\n",
      "tulip\n",
      "['orchid', 'lily', 'daisy']\n",
      "daisy\n",
      "['orchid', 'lily']\n",
      "1\n",
      "0\n",
      "['lily', 'orchid']\n",
      "['orchid', 'lily']\n"
     ]
    }
   ],
   "source": [
    "#insert an element at the end\n",
    "flowers.append(\"daisy\")\n",
    "print(flowers)\n",
    "\n",
    "#insert an element at a specific index\n",
    "flowers.insert(1, \"orchid\")\n",
    "print(flowers)\n",
    "\n",
    "#remove an element by value\n",
    "flowers.remove(\"rose\")\n",
    "print(flowers)\n",
    "\n",
    "#remove an element by index\n",
    "popped_flower = flowers.pop(2)\n",
    "print(popped_flower)\n",
    "print(flowers)\n",
    "\n",
    "#pop the last element. pop() removes and returns the last item if no index is specified\n",
    "last_flower = flowers.pop()\n",
    "print(last_flower)\n",
    "print(flowers)\n",
    "\n",
    "#find the index of an element\n",
    "index_of_lily = flowers.index(\"lily\")\n",
    "print(index_of_lily)\n",
    "\n",
    "#count occurrences of an element\n",
    "count_of_tulip = flowers.count(\"tulip\")\n",
    "print(count_of_tulip)\n",
    "\n",
    "#sort the list (only works if all elements are of the same type)\n",
    "flowers.sort()\n",
    "print(flowers)\n",
    "\n",
    "#reverse the list\n",
    "flowers.reverse()\n",
    "print(flowers)\n",
    "\n",
    "#clear the list\n",
    "flowers.clear()\n",
    "print(flowers)"
   ]
  },
  {
   "cell_type": "code",
   "execution_count": 11,
   "id": "324a131c",
   "metadata": {},
   "outputs": [
    {
     "name": "stdout",
     "output_type": "stream",
     "text": [
      "[2, 4, 6]\n",
      "[9, 8, 7, 6, 5, 4, 3, 2, 1, 0]\n",
      "0\n",
      "1\n",
      "2\n",
      "3\n",
      "4\n",
      "5\n",
      "6\n",
      "7\n",
      "8\n",
      "9\n",
      "Index: 0, Value: 0\n",
      "Index: 1, Value: 1\n",
      "Index: 2, Value: 2\n",
      "Index: 3, Value: 3\n",
      "Index: 4, Value: 4\n",
      "Index: 5, Value: 5\n",
      "Index: 6, Value: 6\n",
      "Index: 7, Value: 7\n",
      "Index: 8, Value: 8\n",
      "Index: 9, Value: 9\n",
      "[0, 1, 4, 9, 16, 25, 36, 49, 64, 81]\n",
      "[0, 1, 4, 9, 16, 25, 36, 49, 64, 81]\n",
      "[0, 16, 256, 1296, 4096]\n"
     ]
    }
   ],
   "source": [
    "#SLICE OPERATION\n",
    "numbers = [0,1,2,3,4,5,6,7,8,9]\n",
    "print(numbers[2:8:2])  # Output: [2, 4, 6]\n",
    "print(numbers[::-1])   # Output: [9, 8, 7, 6, 5, 4, 3, 2, 1, 0]\n",
    "\n",
    "#iterate through the list\n",
    "for no in numbers:\n",
    "    print(no)\n",
    "\n",
    "#iterate with index\n",
    "for index, value in enumerate(numbers):\n",
    "    print(f\"Index: {index}, Value: {value}\")\n",
    "\n",
    "#list comprehension\n",
    "lst2 = []\n",
    "for x in range(10):\n",
    "    lst2.append(x**2)\n",
    "print(lst2)\n",
    "\n",
    "#list comprehension (more pythonic way)\n",
    "squared = [x**2 for x in numbers]\n",
    "print(squared)\n",
    "\n",
    "#list comprehension with condition\n",
    "even_squares = [x**2 for x in numbers if x % 2 == 0]\n",
    "\n",
    "#list comprehension with item1 with condition in item2\n",
    "filtered_squares = [x**2 for x in even_squares if any(y % 4 == 0 for y in numbers)]\n",
    "print(filtered_squares)\n"
   ]
  }
 ],
 "metadata": {
  "kernelspec": {
   "display_name": "SheliaWorkspace",
   "language": "python",
   "name": "python3"
  },
  "language_info": {
   "codemirror_mode": {
    "name": "ipython",
    "version": 3
   },
   "file_extension": ".py",
   "mimetype": "text/x-python",
   "name": "python",
   "nbconvert_exporter": "python",
   "pygments_lexer": "ipython3",
   "version": "3.10.16"
  }
 },
 "nbformat": 4,
 "nbformat_minor": 5
}
