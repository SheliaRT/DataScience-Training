{
 "cells": [
  {
   "cell_type": "markdown",
   "id": "147937a2",
   "metadata": {},
   "source": [
    "### What is a Tuple?\n",
    "Tuples are ordered collections of items that are immutable. This means that once a tuple is created, its elements cannot be changed. While lists are also ordered collections and can contain elements of any type, lists are mutable, whereas tuples are not. This immutability is the key difference between lists and tuples."
   ]
  },
  {
   "cell_type": "code",
   "execution_count": 1,
   "id": "09fd597b",
   "metadata": {},
   "outputs": [
    {
     "name": "stdout",
     "output_type": "stream",
     "text": [
      "(1, 'apple', 2, 'banana', 3, 'cherry')\n"
     ]
    }
   ],
   "source": [
    "### create a tuple\n",
    "tuple_fruits = (1,\"apple\",2,\"banana\",3,\"cherry\")\n",
    "\n",
    "### print the tuple\n",
    "print(tuple_fruits)\n",
    "\n",
    "#tuples can be converted to lists and vice versa\n",
    "list_fruits = list(tuple_fruits)"
   ]
  },
  {
   "cell_type": "code",
   "execution_count": 2,
   "id": "d1b0eb12",
   "metadata": {},
   "outputs": [
    {
     "name": "stdout",
     "output_type": "stream",
     "text": [
      "('apple', 2, 'banana')\n",
      "(1, 'apple', 2, 'banana', 3, 'cherry', 4, 'carrot', 5, 'potato')\n",
      "(1, 'apple', 2, 'banana', 3, 'cherry', 1, 'apple', 2, 'banana', 3, 'cherry')\n"
     ]
    }
   ],
   "source": [
    "#slicing a tuple\n",
    "print(tuple_fruits[1:4])\n",
    "\n",
    "#tuples are immutable, so we cannot change the values of a tuple\n",
    "#tuple_fruits[1] = \"orange\" # this will give an error\n",
    "\n",
    "#we can concatenate two tuples\n",
    "tuple_vegetables = (4,\"carrot\",5,\"potato\")\n",
    "tuple_food = tuple_fruits + tuple_vegetables\n",
    "print(tuple_food)\n",
    "\n",
    "#we can repeat a tuple\n",
    "tuple_repeat = tuple_fruits * 2\n",
    "print(tuple_repeat)\n"
   ]
  },
  {
   "cell_type": "code",
   "execution_count": null,
   "id": "8fcf54fd",
   "metadata": {},
   "outputs": [],
   "source": [
    "#counting elements in a tuple\n",
    "print(tuple_fruits.count(2)) # counts how many times 2 appears in the tuple\n",
    "print(tuple_fruits.index(\"banana\")) # gives the index of the first occurrence of \"banana\n",
    "\n"
   ]
  },
  {
   "cell_type": "code",
   "execution_count": 6,
   "id": "bfcda076",
   "metadata": {},
   "outputs": [
    {
     "name": "stdout",
     "output_type": "stream",
     "text": [
      "1\n",
      "apple\n",
      "1\n",
      "apple\n",
      "[2, 'banana', 3, 'cherry']\n"
     ]
    }
   ],
   "source": [
    "#packing and unpacking of tuples\n",
    "a,b,c,d,e,f = (tuple_fruits)\n",
    "print(a)\n",
    "print(b)\n",
    "\n",
    "### multiple unpacking\n",
    "a,b,*c = (tuple_fruits)\n",
    "print(a)\n",
    "print(b)\n",
    "print(c)\n"
   ]
  },
  {
   "cell_type": "code",
   "execution_count": 8,
   "id": "09a42240",
   "metadata": {},
   "outputs": [
    {
     "name": "stdout",
     "output_type": "stream",
     "text": [
      "((1, 2, 3), ('a', 'b', 'c'), (2, False))\n",
      "(1, 2, 3)\n",
      "2\n",
      "1\n",
      "apple\n",
      "2\n",
      "banana\n",
      "3\n",
      "cherry\n",
      "1\n",
      "apple\n",
      "2\n",
      "banana\n",
      "3\n",
      "cherry\n",
      "printing elements of nested tuple using for loop\n",
      "(1, 2, 3)\n",
      "1\n",
      "2\n",
      "3\n",
      "('a', 'b', 'c')\n",
      "a\n",
      "b\n",
      "c\n",
      "(2, False)\n",
      "2\n",
      "False\n",
      "printing sub elements of nested tuple using index\n",
      "1\n",
      "2\n",
      "3\n",
      "a\n",
      "b\n",
      "c\n",
      "2\n",
      "False\n"
     ]
    }
   ],
   "source": [
    "### nested tuples\n",
    "nested_tuple = (\n",
    "    (1, 2, 3),\n",
    "    (\"a\", \"b\", \"c\"),\n",
    "    (2, False)\n",
    ")\n",
    "\n",
    "#print the nested tuple\n",
    "print(nested_tuple)\n",
    "#print the first element of the nested tuple\n",
    "print(nested_tuple[0])\n",
    "#print the second element of the first element of the nested tuple\n",
    "print(nested_tuple[0][1])\n",
    "\n",
    "#looping through a tuple\n",
    "for item in tuple_fruits:\n",
    "    print(item)\n",
    "\n",
    "#looing through a tuple using index\n",
    "for i in range(len(tuple_fruits)):\n",
    "    print(tuple_fruits[i])\n",
    "\n",
    "#looing through a nested tuple\n",
    "print(\"printing elements of nested tuple using for loop\")\n",
    "for item in nested_tuple:\n",
    "    print(item)\n",
    "    for sub_item in item:\n",
    "        print(sub_item)\n",
    "\n",
    "print(\"printing sub elements of nested tuple using index\")\n",
    "for i in range(len(nested_tuple)):\n",
    "    for j in range(len(nested_tuple[i])):\n",
    "        print(nested_tuple[i][j])"
   ]
  },
  {
   "cell_type": "code",
   "execution_count": 1,
   "id": "d4db7118",
   "metadata": {},
   "outputs": [
    {
     "name": "stdout",
     "output_type": "stream",
     "text": [
      "True\n",
      "False\n"
     ]
    }
   ],
   "source": [
    "###Palindromic Tuple\n",
    "def is_palindromic_tuple(tup):\n",
    "    return tup == tup[::-1]\n",
    "print(is_palindromic_tuple((1,2,3,2,1)))  # True\n",
    "print(is_palindromic_tuple((1,2,3)))      # False"
   ]
  }
 ],
 "metadata": {
  "kernelspec": {
   "display_name": "SheliaWorkspace",
   "language": "python",
   "name": "python3"
  },
  "language_info": {
   "codemirror_mode": {
    "name": "ipython",
    "version": 3
   },
   "file_extension": ".py",
   "mimetype": "text/x-python",
   "name": "python",
   "nbconvert_exporter": "python",
   "pygments_lexer": "ipython3",
   "version": "3.10.16"
  }
 },
 "nbformat": 4,
 "nbformat_minor": 5
}
