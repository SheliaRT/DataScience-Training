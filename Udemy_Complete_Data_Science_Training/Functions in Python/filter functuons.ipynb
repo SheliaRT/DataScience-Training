{
 "cells": [
  {
   "cell_type": "markdown",
   "id": "dfdda0fd",
   "metadata": {},
   "source": [
    "### Understanding the Filter Function\n",
    "The filter function is used to filter out items from a list or any iterable based on a condition. To illustrate, consider a function that checks whether a number is even and returns true or false."
   ]
  },
  {
   "cell_type": "code",
   "execution_count": 1,
   "id": "f0996e86",
   "metadata": {},
   "outputs": [
    {
     "name": "stdout",
     "output_type": "stream",
     "text": [
      "[2, 4, 6, 8, 10, 12]\n"
     ]
    }
   ],
   "source": [
    "def is_even(num):\n",
    "    if num % 2 == 0:\n",
    "        return True\n",
    "    return False\n",
    "\n",
    "numbers = [1, 2, 3, 4, 5, 6, 7, 8, 9, 10, 11, 12]\n",
    "even_numbers = list(filter(is_even, numbers))\n",
    "print(even_numbers)"
   ]
  },
  {
   "cell_type": "code",
   "execution_count": 2,
   "id": "b631d63b",
   "metadata": {},
   "outputs": [
    {
     "name": "stdout",
     "output_type": "stream",
     "text": [
      "[6, 7, 8, 9, 10]\n"
     ]
    }
   ],
   "source": [
    "#Using Filter with Lambda Functions\n",
    "#Filter can also be used with lambda functions. For example, to filter numbers greater than five from a list:\n",
    "numbers = [1, 2, 3, 4, 5, 6, 7, 8, 9, 10]\n",
    "filtered = list(filter(lambda x: x > 5, numbers))\n",
    "print(filtered)"
   ]
  },
  {
   "cell_type": "code",
   "execution_count": 3,
   "id": "269f260b",
   "metadata": {},
   "outputs": [
    {
     "name": "stdout",
     "output_type": "stream",
     "text": [
      "[6, 8, 10]\n"
     ]
    }
   ],
   "source": [
    "#Filter with Multiple Conditions\n",
    "#You can apply multiple conditions within a filter using lambda and logical operators. For example, to filter numbers that are both even and greater than five:\n",
    "numbers = [1, 2, 3, 4, 5, 6, 7, 8, 9, 10]\n",
    "filtered = list(filter(lambda x: x > 5 and x % 2 == 0, numbers))\n",
    "print(filtered)"
   ]
  },
  {
   "cell_type": "code",
   "execution_count": 5,
   "id": "bd1a54e4",
   "metadata": {},
   "outputs": [
    {
     "name": "stdout",
     "output_type": "stream",
     "text": [
      "[{'name': 'Bob', 'age': 22}]\n"
     ]
    }
   ],
   "source": [
    "#Applying Filter to Dictionaries\n",
    "#The filter function can also be used with dictionaries. For example, to filter people whose age is greater than 25:\n",
    "people = [\n",
    "    {'name': 'Alice', 'age': 30},\n",
    "    {'name': 'Bob', 'age': 22},\n",
    "    {'name': 'Charlie', 'age': 35}\n",
    "]\n",
    "filtered = list(filter(lambda person: person['age'] < 25, people))\n",
    "print(filtered)"
   ]
  }
 ],
 "metadata": {
  "kernelspec": {
   "display_name": "SheliaWorkspace",
   "language": "python",
   "name": "python3"
  },
  "language_info": {
   "codemirror_mode": {
    "name": "ipython",
    "version": 3
   },
   "file_extension": ".py",
   "mimetype": "text/x-python",
   "name": "python",
   "nbconvert_exporter": "python",
   "pygments_lexer": "ipython3",
   "version": "3.10.16"
  }
 },
 "nbformat": 4,
 "nbformat_minor": 5
}
