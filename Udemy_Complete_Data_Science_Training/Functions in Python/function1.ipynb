{
 "cells": [
  {
   "cell_type": "markdown",
   "id": "0141b5be",
   "metadata": {},
   "source": [
    " A function is a block of code that performs a specific task. Functions help in organizing code, reusing code, and improving readability. It is not necessary for a function to always return a value, but many functions do."
   ]
  },
  {
   "cell_type": "code",
   "execution_count": 2,
   "id": "55655b21",
   "metadata": {},
   "outputs": [
    {
     "name": "stdout",
     "output_type": "stream",
     "text": [
      "I have a car\n",
      "My car is a Tesla\n"
     ]
    }
   ],
   "source": [
    "#create a function\n",
    "def cars():\n",
    "    print(\"I have a car\")\n",
    "    print(\"My car is a Tesla\")\n",
    "#call the function\n",
    "cars()"
   ]
  },
  {
   "cell_type": "code",
   "execution_count": 3,
   "id": "07370b5c",
   "metadata": {},
   "outputs": [
    {
     "name": "stdout",
     "output_type": "stream",
     "text": [
      "I have a BMW car\n",
      "My car is a BMW\n"
     ]
    }
   ],
   "source": [
    "def cars(c):\n",
    "    print(f\"I have a {c} car\")\n",
    "    print(f\"My car is a {c}\")\n",
    "#call the function\n",
    "cars(\"BMW\")"
   ]
  },
  {
   "cell_type": "code",
   "execution_count": 4,
   "id": "1a7ba627",
   "metadata": {},
   "outputs": [
    {
     "name": "stdout",
     "output_type": "stream",
     "text": [
      "I have a car and its a Audi\n"
     ]
    }
   ],
   "source": [
    "def cars(c):\n",
    "    s=\"I have a car and its a \"+c\n",
    "    return s\n",
    "#call the function\n",
    "result=cars(\"Audi\")\n",
    "print(result)"
   ]
  },
  {
   "cell_type": "code",
   "execution_count": 5,
   "id": "4f88f27d",
   "metadata": {},
   "outputs": [
    {
     "name": "stdout",
     "output_type": "stream",
     "text": [
      "I have a BMW car\n",
      "I have a Audi car\n",
      "I have a Tesla car\n"
     ]
    }
   ],
   "source": [
    "#Variable Length Arguments\n",
    "def car_info(*cars):\n",
    "    for car in cars:\n",
    "        print(f\"I have a {car} car\")\n",
    "\n",
    "#call the function\n",
    "car_info(\"BMW\", \"Audi\", \"Tesla\")\n"
   ]
  },
  {
   "cell_type": "code",
   "execution_count": 6,
   "id": "6696a6cc",
   "metadata": {},
   "outputs": [
    {
     "name": "stdout",
     "output_type": "stream",
     "text": [
      "brand: BMW\n",
      "model: X5\n",
      "year: 2020\n"
     ]
    }
   ],
   "source": [
    "#keyword arguments\n",
    "def car_info(**kwargs):\n",
    "    for key, value in kwargs.items():\n",
    "        print(f\"{key}: {value}\")\n",
    "\n",
    "#call the function\n",
    "car_info(brand=\"BMW\", model=\"X5\", year=2020)\n",
    "\n"
   ]
  },
  {
   "cell_type": "code",
   "execution_count": 7,
   "id": "fa306c00",
   "metadata": {},
   "outputs": [
    {
     "name": "stdout",
     "output_type": "stream",
     "text": [
      "I have a BMW car\n",
      "I have a Audi car\n",
      "brand: Tesla\n",
      "model: Model S\n",
      "year: 2021\n"
     ]
    }
   ],
   "source": [
    "#combing both types of arguments\n",
    "def car_info(*args, **kwargs):\n",
    "    for car in args:\n",
    "        print(f\"I have a {car} car\")\n",
    "    for key, value in kwargs.items():\n",
    "        print(f\"{key}: {value}\")\n",
    "#call the function\n",
    "car_info(\"BMW\", \"Audi\", brand=\"Tesla\", model=\"Model S\", year=2021)"
   ]
  },
  {
   "cell_type": "code",
   "execution_count": 8,
   "id": "c5de19db",
   "metadata": {},
   "outputs": [
    {
     "name": "stdout",
     "output_type": "stream",
     "text": [
      "8\n"
     ]
    }
   ],
   "source": [
    "#using return statement in functions\n",
    "def add(a, b):\n",
    "    return a + b\n",
    "result = add(3, 5)\n",
    "print(result)"
   ]
  },
  {
   "cell_type": "markdown",
   "id": "5c2a4eac",
   "metadata": {},
   "source": [
    "### Coding Examples with Functions"
   ]
  },
  {
   "cell_type": "code",
   "execution_count": null,
   "id": "d85c8a98",
   "metadata": {},
   "outputs": [
    {
     "name": "stdout",
     "output_type": "stream",
     "text": [
      "77.0\n",
      "25.0\n"
     ]
    }
   ],
   "source": [
    "###Temperature Conversion Function\n",
    "\n",
    "def convert_temperature(temperature, unit):\n",
    "    \"\"\"\n",
    "    Converts temperature between Celsius and Fahrenheit.\n",
    "    \"\"\"\n",
    "    if unit == 'C':\n",
    "        return (temperature * 9/5) + 32\n",
    "    elif unit == 'F':\n",
    "        return (temperature - 32) * 5/9\n",
    "    else:\n",
    "        return None\n",
    "    \n",
    "print(convert_temperature(25, 'C'))  # Output: 77.0\n",
    "print(convert_temperature(77, 'F'))  # Output: 25.0"
   ]
  },
  {
   "cell_type": "code",
   "execution_count": null,
   "id": "a52fdddb",
   "metadata": {},
   "outputs": [
    {
     "name": "stdout",
     "output_type": "stream",
     "text": [
      "False\n",
      "True\n"
     ]
    }
   ],
   "source": [
    "###Password Strength Checker\n",
    "\n",
    "def is_strong_password(password):\n",
    "    \"\"\"\n",
    "    Checks if the password is strong or not.\n",
    "    \"\"\"\n",
    "    if len(password) < 8:\n",
    "        return False\n",
    "    if not any(char.isdigit() for char in password):\n",
    "        return False\n",
    "    if not any(char.islower() for char in password):\n",
    "        return False\n",
    "    if not any(char.isupper() for char in password):\n",
    "        return False\n",
    "    special_characters = '!@#$%^&*()-_+=[]{}|;:,.<>?/\\\\'\n",
    "    if not any(char in special_characters for char in password):\n",
    "        return False\n",
    "    return True\n",
    "\n",
    "\n",
    "print(is_strong_password('AbAbaBaB'))  # Output: False\n",
    "print(is_strong_password('Str0ngPwd!'))  # Output: True"
   ]
  },
  {
   "cell_type": "code",
   "execution_count": null,
   "id": "849591fb",
   "metadata": {},
   "outputs": [
    {
     "name": "stdout",
     "output_type": "stream",
     "text": [
      "5.8999999999999995\n"
     ]
    }
   ],
   "source": [
    "\n",
    "##Cart Total Cost Calculator\n",
    "def calculate_total_cost(cart):\n",
    "    total_cost = 0\n",
    "    for item in cart:\n",
    "        total_cost += item['price'] * item['quantity']\n",
    "    return total_cost\n",
    "\n",
    "cart = [\n",
    "    {'name': 'Apple', 'price': 0.5, 'quantity': 4},\n",
    "    {'name': 'Banana', 'price': 0.3, 'quantity': 6},\n",
    "    {'name': 'Orange', 'price': 0.7, 'quantity': 3}\n",
    "]\n",
    "total_cost = calculate_total_cost(cart)\n",
    "print(total_cost)  # Output: 5.889"
   ]
  },
  {
   "cell_type": "code",
   "execution_count": null,
   "id": "d8c00f4d",
   "metadata": {},
   "outputs": [
    {
     "name": "stdout",
     "output_type": "stream",
     "text": [
      "True\n",
      "False\n"
     ]
    }
   ],
   "source": [
    "###Palindrome Checker\n",
    "\n",
    "def is_palindrome(s):\n",
    "    s = s.lower().replace(' ', '')\n",
    "    return s == s[::-1]\n",
    "\n",
    "print(is_palindrome('A man a plan a canal Panama'))  # Output: True\n",
    "print(is_palindrome('hello'))  # Output: False"
   ]
  },
  {
   "cell_type": "code",
   "execution_count": null,
   "id": "ee445c38",
   "metadata": {},
   "outputs": [
    {
     "name": "stdout",
     "output_type": "stream",
     "text": [
      "120\n",
      "720\n"
     ]
    }
   ],
   "source": [
    "###Factorial Calculation Using Recursion\n",
    "\n",
    "def factorial(n):\n",
    "    if n == 0:\n",
    "        return 1\n",
    "    else:\n",
    "        return n * factorial(n - 1)\n",
    "    \n",
    "print(factorial(5))  # Output: 120\n",
    "print(factorial(6))  # Output: 720"
   ]
  },
  {
   "cell_type": "code",
   "execution_count": null,
   "id": "08362fc3",
   "metadata": {},
   "outputs": [
    {
     "name": "stdout",
     "output_type": "stream",
     "text": [
      "{'this': 1, 'lecture': 1, 'continues': 1, 'the': 1, 'discussion': 1, 'on': 1, 'python': 1, 'by': 1, 'providing': 1, 'practical': 1, 'examples': 1, 'involving': 1, 'functions': 1, 'several': 1, 'real-world': 1, 'scenarios': 1, 'are': 1, 'covered': 1, 'including': 1, 'temperature': 1, 'conversion': 1, 'password': 1, 'strength': 1, 'checking': 1, 'shopping': 1, 'cart': 1, 'calculations': 1, 'palindrome': 1, 'detection': 1, 'factorial': 1, 'computation': 1, 'using': 1, 'recursion': 1, 'word': 1, 'frequency': 1, 'counting': 1, 'from': 1, 'a': 1, 'file': 1, 'and': 1, 'email': 1, 'validation': 1}\n"
     ]
    }
   ],
   "source": [
    "###Word Frequency Counter from a File\n",
    "\n",
    "def count_word_frequency(file_path):\n",
    "    word_count = {}\n",
    "    with open(file_path, 'r') as file:\n",
    "        for line in file:\n",
    "            words = line.split()\n",
    "            for word in words:\n",
    "                word = word.lower().strip('.,:;!?/\\\\')\n",
    "                word_count[word] = word_count.get(word, 0) + 1\n",
    "    return word_count\n",
    "\n",
    "file_path = 'file1.txt'\n",
    "word_frequency = count_word_frequency(file_path)\n",
    "print(word_frequency)"
   ]
  },
  {
   "cell_type": "code",
   "execution_count": null,
   "id": "8411b988",
   "metadata": {},
   "outputs": [
    {
     "name": "stdout",
     "output_type": "stream",
     "text": [
      "True\n",
      "False\n"
     ]
    }
   ],
   "source": [
    "#Email Address Validation\n",
    "\n",
    "import re\n",
    "\n",
    "def is_valid_email(email):\n",
    "    pattern = r'^[A-Za-z0-9+_.-]+@[A-Za-z0-9.-]+\\.[A-Za-z]{2,}$'\n",
    "    return re.match(pattern, email) is not None\n",
    "\n",
    "print(is_valid_email('username@gmail.com'))  # Output: True\n",
    "print(is_valid_email('invalid-email'))  # Output: False"
   ]
  }
 ],
 "metadata": {
  "kernelspec": {
   "display_name": "SheliaWorkspace",
   "language": "python",
   "name": "python3"
  },
  "language_info": {
   "codemirror_mode": {
    "name": "ipython",
    "version": 3
   },
   "file_extension": ".py",
   "mimetype": "text/x-python",
   "name": "python",
   "nbconvert_exporter": "python",
   "pygments_lexer": "ipython3",
   "version": "3.10.16"
  }
 },
 "nbformat": 4,
 "nbformat_minor": 5
}
