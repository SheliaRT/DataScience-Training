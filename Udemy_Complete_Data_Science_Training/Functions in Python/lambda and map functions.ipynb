{
 "cells": [
  {
   "cell_type": "markdown",
   "id": "a988e71d",
   "metadata": {},
   "source": [
    "### Lambda Functions\n",
    "Lambda functions are small, anonymous functions defined using the lambda keyword. An anonymous function is a function without a name. Lambda functions can have any number of arguments, but only one expression. They are commonly used for short operations or as arguments to higher-order functions."
   ]
  },
  {
   "cell_type": "code",
   "execution_count": 1,
   "id": "5874aa9f",
   "metadata": {},
   "outputs": [
    {
     "name": "stdout",
     "output_type": "stream",
     "text": [
      "regular function 5\n",
      "lambda function 5\n"
     ]
    }
   ],
   "source": [
    "def addition(a, b):\n",
    "    return a + b\n",
    "print(\"regular function\", addition(2,3))\n",
    "\n",
    "#converting this into lambda function\n",
    "add = lambda a, b: a + b\n",
    "print(\"lambda function\", add(2,3))"
   ]
  },
  {
   "cell_type": "markdown",
   "id": "ad9f7499",
   "metadata": {},
   "source": [
    "### lambda Functions with Map\n",
    "Lambda functions are powerful when used with functions like map. The map function applies a function to all items in a list or any collection."
   ]
  },
  {
   "cell_type": "code",
   "execution_count": 2,
   "id": "18ebee83",
   "metadata": {},
   "outputs": [
    {
     "name": "stdout",
     "output_type": "stream",
     "text": [
      "squared numbers [1, 4, 9, 16, 25]\n"
     ]
    }
   ],
   "source": [
    "#example with map function\n",
    "numbers = [1, 2, 3, 4, 5]   \n",
    "squared = list(map(lambda x: x**2, numbers))\n",
    "print(\"squared numbers\", squared)\n"
   ]
  },
  {
   "cell_type": "code",
   "execution_count": 3,
   "id": "02925896",
   "metadata": {},
   "outputs": [
    {
     "name": "stdout",
     "output_type": "stream",
     "text": [
      "squared numbers [1, 4, 9, 16, 25]\n"
     ]
    }
   ],
   "source": [
    "##Using regular function with map\n",
    "def square(x):\n",
    "    return x ** 2\n",
    "\n",
    "numbers = [1, 2, 3, 4, 5]\n",
    "squared = list(map(square, numbers))\n",
    "print(\"squared numbers\", squared)"
   ]
  },
  {
   "cell_type": "code",
   "execution_count": 4,
   "id": "b771ac63",
   "metadata": {},
   "outputs": [
    {
     "name": "stdout",
     "output_type": "stream",
     "text": [
      "capitalized names ['Alice', 'Bob', 'Charlie']\n"
     ]
    }
   ],
   "source": [
    "#using map with in built function\n",
    "names = ['alice', 'bob', 'charlie']\n",
    "capitalized = list(map(str.capitalize, names))\n",
    "print(\"capitalized names\", capitalized)"
   ]
  },
  {
   "cell_type": "code",
   "execution_count": 6,
   "id": "a30d02ca",
   "metadata": {},
   "outputs": [
    {
     "name": "stdout",
     "output_type": "stream",
     "text": [
      "names from list of dictionaries ['Krush', 'Jack']\n"
     ]
    }
   ],
   "source": [
    "#Applying Map to a List of Dictionaries\n",
    "#Suppose you have a list of dictionaries and want to extract a specific field from each dictionary. \n",
    "# You can define a function and use map to apply it to the list:\n",
    "\n",
    "def get_name(person):\n",
    "    return person['name']\n",
    "people = [\n",
    "    {'name': 'Krush', 'age': 32},\n",
    "    {'name': 'Jack', 'age': 33}\n",
    "]\n",
    "names = list(map(get_name, people))\n",
    "print(\"names from list of dictionaries\", names)"
   ]
  }
 ],
 "metadata": {
  "kernelspec": {
   "display_name": "SheliaWorkspace",
   "language": "python",
   "name": "python3"
  },
  "language_info": {
   "codemirror_mode": {
    "name": "ipython",
    "version": 3
   },
   "file_extension": ".py",
   "mimetype": "text/x-python",
   "name": "python",
   "nbconvert_exporter": "python",
   "pygments_lexer": "ipython3",
   "version": "3.10.16"
  }
 },
 "nbformat": 4,
 "nbformat_minor": 5
}
