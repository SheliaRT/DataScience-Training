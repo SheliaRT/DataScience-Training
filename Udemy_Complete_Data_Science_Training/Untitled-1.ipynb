{
 "cells": [
  {
   "cell_type": "markdown",
   "id": "86ce9f40",
   "metadata": {},
   "source": [
    "### Section 27: Python Functions"
   ]
  },
  {
   "cell_type": "code",
   "execution_count": 1,
   "id": "4270760b",
   "metadata": {},
   "outputs": [
    {
     "name": "stdout",
     "output_type": "stream",
     "text": [
      "This is simple!\n"
     ]
    }
   ],
   "source": [
    "def simple():\n",
    "    print(\"This is simple!\")\n",
    "\n",
    "###call the function\n",
    "simple()"
   ]
  },
  {
   "cell_type": "code",
   "execution_count": 3,
   "id": "0bb86a81",
   "metadata": {},
   "outputs": [
    {
     "name": "stdout",
     "output_type": "stream",
     "text": [
      "15\n"
     ]
    }
   ],
   "source": [
    "###function with parameters\n",
    "def plus_ten(num):\n",
    "    return num + 10\n",
    "\n",
    "###call the function with an argument\n",
    "result = plus_ten(5)\n",
    "print(result)"
   ]
  },
  {
   "cell_type": "code",
   "execution_count": null,
   "id": "d362673f",
   "metadata": {},
   "outputs": [],
   "source": []
  },
  {
   "cell_type": "code",
   "execution_count": null,
   "id": "5a6a71be",
   "metadata": {},
   "outputs": [],
   "source": []
  }
 ],
 "metadata": {
  "kernelspec": {
   "display_name": "SheliaWorkspace",
   "language": "python",
   "name": "python3"
  },
  "language_info": {
   "codemirror_mode": {
    "name": "ipython",
    "version": 3
   },
   "file_extension": ".py",
   "mimetype": "text/x-python",
   "name": "python",
   "nbconvert_exporter": "python",
   "pygments_lexer": "ipython3",
   "version": "3.10.16"
  }
 },
 "nbformat": 4,
 "nbformat_minor": 5
}
